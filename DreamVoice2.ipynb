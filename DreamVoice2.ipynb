{
  "nbformat": 4,
  "nbformat_minor": 0,
  "metadata": {
    "colab": {
      "provenance": [],
      "machine_shape": "hm",
      "mount_file_id": "14-ctIsVNX0yZF-U8RTtAcEcot9qcWHUF",
      "authorship_tag": "ABX9TyMGFBLO76eDuR4EHAGIt61Y",
      "include_colab_link": true
    },
    "kernelspec": {
      "name": "python3",
      "display_name": "Python 3"
    }
  },
  "cells": [
    {
      "cell_type": "markdown",
      "metadata": {
        "id": "view-in-github",
        "colab_type": "text"
      },
      "source": [
        "<a href=\"https://colab.research.google.com/github/WorldBestProgrammer/TTS/blob/main/DreamVoice2.ipynb\" target=\"_parent\"><img src=\"https://colab.research.google.com/assets/colab-badge.svg\" alt=\"Open In Colab\"/></a>"
      ]
    },
    {
      "cell_type": "code",
      "metadata": {
        "id": "RUH129MYQN55"
      },
      "source": [
        "import os\n",
        "\n",
        "def restart_runtime():\n",
        "  os.kill(os.getpid(), 9)"
      ],
      "execution_count": null,
      "outputs": []
    },
    {
      "cell_type": "code",
      "metadata": {
        "colab": {
          "base_uri": "https://localhost:8080/"
        },
        "id": "XJlKWDGHUXqy",
        "outputId": "749db68a-495b-4686-e2a4-6aa7ff452501"
      },
      "source": [
        "!pip install --upgrade google-cloud-speech\n",
        "restart_runtime()\n",
        "import os\n",
        "os.environ[\"GOOGLE_APPLICATION_CREDENTIALS\"]=\"/content/drive/MyDrive/Colab Notebooks/key/My First Project-80a108cb62e8.json\""
      ],
      "execution_count": null,
      "outputs": [
        {
          "output_type": "stream",
          "text": [
            "Collecting google-cloud-speech\n",
            "\u001b[?25l  Downloading https://files.pythonhosted.org/packages/e6/d5/664cd3597cf3991f67d213f8e0b14c263c971af4bc806454c583f637e2a3/google_cloud_speech-2.0.1-py2.py3-none-any.whl (108kB)\n",
            "\u001b[K     |████████████████████████████████| 112kB 6.3MB/s \n",
            "\u001b[?25hCollecting libcst>=0.2.5\n",
            "\u001b[?25l  Downloading https://files.pythonhosted.org/packages/ba/26/a67b3ce61ef35cd9abb1be25ee9b156ea45940903626ed4ea9777700ade4/libcst-0.3.16-py3-none-any.whl (505kB)\n",
            "\u001b[K     |████████████████████████████████| 512kB 6.4MB/s \n",
            "\u001b[?25hCollecting proto-plus>=1.4.0\n",
            "\u001b[?25l  Downloading https://files.pythonhosted.org/packages/e8/e0/59ad1e6a7d62259027e9b48aedfc95ba63f9336b803d1b174769bcb2c7f9/proto-plus-1.13.0.tar.gz (44kB)\n",
            "\u001b[K     |████████████████████████████████| 51kB 4.7MB/s \n",
            "\u001b[?25hCollecting google-api-core[grpc]<2.0.0dev,>=1.22.2\n",
            "\u001b[?25l  Downloading https://files.pythonhosted.org/packages/59/52/0ac071e86ab1f0ab0e4d2d8dc81ad1722dbe73e315dcb4d9693103ca1927/google_api_core-1.25.0-py2.py3-none-any.whl (92kB)\n",
            "\u001b[K     |████████████████████████████████| 102kB 6.2MB/s \n",
            "\u001b[?25hCollecting pyyaml>=5.2\n",
            "\u001b[?25l  Downloading https://files.pythonhosted.org/packages/7a/5b/bc0b5ab38247bba158504a410112b6c03f153c652734ece1849749e5f518/PyYAML-5.4.1-cp36-cp36m-manylinux1_x86_64.whl (640kB)\n",
            "\u001b[K     |████████████████████████████████| 645kB 10.3MB/s \n",
            "\u001b[?25hRequirement already satisfied, skipping upgrade: typing-extensions>=3.7.4.2 in /usr/local/lib/python3.6/dist-packages (from libcst>=0.2.5->google-cloud-speech) (3.7.4.3)\n",
            "Requirement already satisfied, skipping upgrade: dataclasses>=0.6.0; python_version < \"3.7\" in /usr/local/lib/python3.6/dist-packages (from libcst>=0.2.5->google-cloud-speech) (0.8)\n",
            "Collecting typing-inspect>=0.4.0\n",
            "  Downloading https://files.pythonhosted.org/packages/42/1c/66402db44184904a2f14722d317a4da0b5c8c78acfc3faf74362566635c5/typing_inspect-0.6.0-py3-none-any.whl\n",
            "Requirement already satisfied, skipping upgrade: protobuf>=3.12.0 in /usr/local/lib/python3.6/dist-packages (from proto-plus>=1.4.0->google-cloud-speech) (3.12.4)\n",
            "Requirement already satisfied, skipping upgrade: pytz in /usr/local/lib/python3.6/dist-packages (from google-api-core[grpc]<2.0.0dev,>=1.22.2->google-cloud-speech) (2018.9)\n",
            "Collecting google-auth<2.0dev,>=1.21.1\n",
            "\u001b[?25l  Downloading https://files.pythonhosted.org/packages/3e/fd/df1b3a59aca9537a187413651ad63b290d165559150a868a298fa837fe7b/google_auth-1.24.0-py2.py3-none-any.whl (114kB)\n",
            "\u001b[K     |████████████████████████████████| 122kB 17.5MB/s \n",
            "\u001b[?25hRequirement already satisfied, skipping upgrade: setuptools>=40.3.0 in /usr/local/lib/python3.6/dist-packages (from google-api-core[grpc]<2.0.0dev,>=1.22.2->google-cloud-speech) (51.3.3)\n",
            "Requirement already satisfied, skipping upgrade: six>=1.13.0 in /usr/local/lib/python3.6/dist-packages (from google-api-core[grpc]<2.0.0dev,>=1.22.2->google-cloud-speech) (1.15.0)\n",
            "Requirement already satisfied, skipping upgrade: requests<3.0.0dev,>=2.18.0 in /usr/local/lib/python3.6/dist-packages (from google-api-core[grpc]<2.0.0dev,>=1.22.2->google-cloud-speech) (2.23.0)\n",
            "Requirement already satisfied, skipping upgrade: googleapis-common-protos<2.0dev,>=1.6.0 in /usr/local/lib/python3.6/dist-packages (from google-api-core[grpc]<2.0.0dev,>=1.22.2->google-cloud-speech) (1.52.0)\n",
            "Requirement already satisfied, skipping upgrade: grpcio<2.0dev,>=1.29.0; extra == \"grpc\" in /usr/local/lib/python3.6/dist-packages (from google-api-core[grpc]<2.0.0dev,>=1.22.2->google-cloud-speech) (1.32.0)\n",
            "Collecting mypy-extensions>=0.3.0\n",
            "  Downloading https://files.pythonhosted.org/packages/5c/eb/975c7c080f3223a5cdaff09612f3a5221e4ba534f7039db34c35d95fa6a5/mypy_extensions-0.4.3-py2.py3-none-any.whl\n",
            "Requirement already satisfied, skipping upgrade: cachetools<5.0,>=2.0.0 in /usr/local/lib/python3.6/dist-packages (from google-auth<2.0dev,>=1.21.1->google-api-core[grpc]<2.0.0dev,>=1.22.2->google-cloud-speech) (4.2.0)\n",
            "Requirement already satisfied, skipping upgrade: rsa<5,>=3.1.4; python_version >= \"3.6\" in /usr/local/lib/python3.6/dist-packages (from google-auth<2.0dev,>=1.21.1->google-api-core[grpc]<2.0.0dev,>=1.22.2->google-cloud-speech) (4.6)\n",
            "Requirement already satisfied, skipping upgrade: pyasn1-modules>=0.2.1 in /usr/local/lib/python3.6/dist-packages (from google-auth<2.0dev,>=1.21.1->google-api-core[grpc]<2.0.0dev,>=1.22.2->google-cloud-speech) (0.2.8)\n",
            "Requirement already satisfied, skipping upgrade: chardet<4,>=3.0.2 in /usr/local/lib/python3.6/dist-packages (from requests<3.0.0dev,>=2.18.0->google-api-core[grpc]<2.0.0dev,>=1.22.2->google-cloud-speech) (3.0.4)\n",
            "Requirement already satisfied, skipping upgrade: urllib3!=1.25.0,!=1.25.1,<1.26,>=1.21.1 in /usr/local/lib/python3.6/dist-packages (from requests<3.0.0dev,>=2.18.0->google-api-core[grpc]<2.0.0dev,>=1.22.2->google-cloud-speech) (1.24.3)\n",
            "Requirement already satisfied, skipping upgrade: idna<3,>=2.5 in /usr/local/lib/python3.6/dist-packages (from requests<3.0.0dev,>=2.18.0->google-api-core[grpc]<2.0.0dev,>=1.22.2->google-cloud-speech) (2.10)\n",
            "Requirement already satisfied, skipping upgrade: certifi>=2017.4.17 in /usr/local/lib/python3.6/dist-packages (from requests<3.0.0dev,>=2.18.0->google-api-core[grpc]<2.0.0dev,>=1.22.2->google-cloud-speech) (2020.12.5)\n",
            "Requirement already satisfied, skipping upgrade: pyasn1>=0.1.3 in /usr/local/lib/python3.6/dist-packages (from rsa<5,>=3.1.4; python_version >= \"3.6\"->google-auth<2.0dev,>=1.21.1->google-api-core[grpc]<2.0.0dev,>=1.22.2->google-cloud-speech) (0.4.8)\n",
            "Building wheels for collected packages: proto-plus\n",
            "  Building wheel for proto-plus (setup.py) ... \u001b[?25l\u001b[?25hdone\n",
            "  Created wheel for proto-plus: filename=proto_plus-1.13.0-cp36-none-any.whl size=41592 sha256=9a010dc4c0f0483aac952d7ede92d961a9d2ecf420a8b2b7848d0e096310675b\n",
            "  Stored in directory: /root/.cache/pip/wheels/65/57/45/b5c1c1c29003f3670581d84356fa449e1133da93c15f1de364\n",
            "Successfully built proto-plus\n",
            "\u001b[31mERROR: google-colab 1.0.0 has requirement google-auth~=1.17.2, but you'll have google-auth 1.24.0 which is incompatible.\u001b[0m\n",
            "Installing collected packages: pyyaml, mypy-extensions, typing-inspect, libcst, proto-plus, google-auth, google-api-core, google-cloud-speech\n",
            "  Found existing installation: PyYAML 3.13\n",
            "    Uninstalling PyYAML-3.13:\n",
            "      Successfully uninstalled PyYAML-3.13\n",
            "  Found existing installation: google-auth 1.17.2\n",
            "    Uninstalling google-auth-1.17.2:\n",
            "      Successfully uninstalled google-auth-1.17.2\n",
            "  Found existing installation: google-api-core 1.16.0\n",
            "    Uninstalling google-api-core-1.16.0:\n",
            "      Successfully uninstalled google-api-core-1.16.0\n",
            "Successfully installed google-api-core-1.25.0 google-auth-1.24.0 google-cloud-speech-2.0.1 libcst-0.3.16 mypy-extensions-0.4.3 proto-plus-1.13.0 pyyaml-5.4.1 typing-inspect-0.6.0\n"
          ],
          "name": "stdout"
        }
      ]
    },
    {
      "cell_type": "code",
      "metadata": {
        "colab": {
          "base_uri": "https://localhost:8080/"
        },
        "id": "fZIa1kmAKRM7",
        "outputId": "a2964f2f-891b-4f03-a5f0-2f75ab79c7cd"
      },
      "source": [
        "from google.colab import drive\n",
        "drive.mount('/content/gdrive')"
      ],
      "execution_count": null,
      "outputs": [
        {
          "output_type": "stream",
          "text": [
            "Mounted at /content/gdrive\n"
          ],
          "name": "stdout"
        }
      ]
    },
    {
      "cell_type": "code",
      "metadata": {
        "colab": {
          "base_uri": "https://localhost:8080/"
        },
        "id": "PG53f9KeOgSD",
        "outputId": "607390b6-dcbd-45e9-db83-02b0731e664c"
      },
      "source": [
        "!pip show google-api-core"
      ],
      "execution_count": null,
      "outputs": [
        {
          "output_type": "stream",
          "text": [
            "Name: google-api-core\n",
            "Version: 1.25.0\n",
            "Summary: Google API client core library\n",
            "Home-page: https://github.com/googleapis/python-api-core\n",
            "Author: Google LLC\n",
            "Author-email: googleapis-packages@google.com\n",
            "License: Apache 2.0\n",
            "Location: /usr/local/lib/python3.6/dist-packages\n",
            "Requires: six, googleapis-common-protos, pytz, google-auth, protobuf, requests, setuptools\n",
            "Required-by: google-cloud-translate, google-cloud-speech, google-cloud-language, google-cloud-firestore, google-cloud-datastore, google-cloud-core, google-cloud-bigquery-storage, firebase-admin\n"
          ],
          "name": "stdout"
        }
      ]
    },
    {
      "cell_type": "code",
      "metadata": {
        "colab": {
          "base_uri": "https://localhost:8080/"
        },
        "id": "slOqRt-WMinc",
        "outputId": "27302f51-2f89-442e-8f51-91b59ad88ee4"
      },
      "source": [
        "!pip install natsort"
      ],
      "execution_count": null,
      "outputs": [
        {
          "output_type": "stream",
          "text": [
            "Requirement already satisfied: natsort in /usr/local/lib/python3.6/dist-packages (5.5.0)\n"
          ],
          "name": "stdout"
        }
      ]
    },
    {
      "cell_type": "code",
      "metadata": {
        "id": "W9-Qf4iFUiXL"
      },
      "source": [
        "!export GOOGLE_APPLICATION_CREDENTIALS=\"/key/My First Project-80a108cb62e8.json\""
      ],
      "execution_count": null,
      "outputs": []
    },
    {
      "cell_type": "code",
      "metadata": {
        "id": "ik_xpaMGZgpJ"
      },
      "source": [
        "import os\n",
        "os.environ[\"GOOGLE_APPLICATION_CREDENTIALS\"]=\"/content/drive/MyDrive/Colab Notebooks/key/My First Project-80a108cb62e8.json\""
      ],
      "execution_count": null,
      "outputs": []
    },
    {
      "cell_type": "markdown",
      "metadata": {
        "id": "24E9wcAL3Hji"
      },
      "source": [
        "test Google Credential"
      ]
    },
    {
      "cell_type": "code",
      "metadata": {
        "colab": {
          "base_uri": "https://localhost:8080/"
        },
        "id": "h_xReZiu3AMO",
        "outputId": "4e130a02-8c86-4824-ec31-4902935a5c74"
      },
      "source": [
        "# Imports the Google Cloud client library\n",
        "from google.cloud import speech\n",
        "\n",
        "# Instantiates a client\n",
        "client = speech.SpeechClient()\n",
        "\n",
        "# The name of the audio file to transcribe\n",
        "gcs_uri = \"gs://cloud-samples-data/speech/brooklyn_bridge.raw\"\n",
        "\n",
        "audio = speech.RecognitionAudio(uri=gcs_uri)\n",
        "\n",
        "config = speech.RecognitionConfig(\n",
        "    encoding=speech.RecognitionConfig.AudioEncoding.LINEAR16,\n",
        "    sample_rate_hertz=16000,\n",
        "    language_code=\"en-US\",\n",
        ")\n",
        "\n",
        "# Detects speech in the audio file\n",
        "response = client.recognize(config=config, audio=audio)\n",
        "\n",
        "for result in response.results:\n",
        "    print(\"Transcript: {}\".format(result.alternatives[0].transcript))"
      ],
      "execution_count": null,
      "outputs": [
        {
          "output_type": "stream",
          "text": [
            "Transcript: how old is the Brooklyn Bridge\n"
          ],
          "name": "stdout"
        }
      ]
    },
    {
      "cell_type": "code",
      "metadata": {
        "colab": {
          "base_uri": "https://localhost:8080/",
          "height": 89
        },
        "id": "S11V44Y378JK",
        "outputId": "43754bd9-571f-4cf7-cb96-8ede789b1fc0"
      },
      "source": [
        "%cd content/data\n",
        "# !gdown --id 1UpoBaZRTJXkTdsoemLBWV48QClm6hpTX -O filelists.zip\n",
        "!cp \"/content/drive/MyDrive/Colab Notebooks/data/reserve/radio/radio.zip\" ./radio.zip\n",
        "'''!rm -rf ./filelists\n",
        "!unzip -q filelists.zip -d ./filelists'''\n",
        "#!unzip -q 'content/drive/MyDrive/Colab Notebooks/data/reserve/radio/radio.zip' -d 'content/drive/MyDrive/Colab Notebooks/data/reserve/radio/radio'"
      ],
      "execution_count": null,
      "outputs": [
        {
          "output_type": "stream",
          "text": [
            "[Errno 2] No such file or directory: 'content/data'\n",
            "/content\n",
            "cp: cannot stat '/content/drive/MyDrive/Colab Notebooks/data/reserve/radio/radio.zip': Transport endpoint is not connected\n"
          ],
          "name": "stdout"
        },
        {
          "output_type": "execute_result",
          "data": {
            "application/vnd.google.colaboratory.intrinsic+json": {
              "type": "string"
            },
            "text/plain": [
              "'!rm -rf ./filelists\\n!unzip -q filelists.zip -d ./filelists'"
            ]
          },
          "metadata": {
            "tags": []
          },
          "execution_count": 12
        }
      ]
    },
    {
      "cell_type": "code",
      "metadata": {
        "colab": {
          "base_uri": "https://localhost:8080/"
        },
        "id": "wukpPkjVK64r",
        "outputId": "cdce93e1-d330-4d93-cb87-edb7c0b97b4b"
      },
      "source": [
        "%cd /content/data\n",
        "!cp \"/content/gdrive/MyDrive/Colab Notebooks/data/reserve/radio/radio.zip\" ./radio.zip"
      ],
      "execution_count": null,
      "outputs": [
        {
          "output_type": "stream",
          "text": [
            "/content/data\n",
            "cp: error reading '/content/gdrive/MyDrive/Colab Notebooks/data/reserve/radio/radio.zip': Input/output error\n"
          ],
          "name": "stdout"
        }
      ]
    },
    {
      "cell_type": "markdown",
      "metadata": {
        "id": "g9Q_oePY3ZN1"
      },
      "source": [
        "짧은 파일(로컬파일용)"
      ]
    },
    {
      "cell_type": "code",
      "metadata": {
        "id": "8ePWwku23Xt0"
      },
      "source": [
        "import sys\n",
        "def transcribe_file(speech_file):\n",
        "    \"\"\"Transcribe the given audio file.\"\"\"\n",
        "    from google.cloud import speech_v1p1beta1 as speech\n",
        "    import io\n",
        "\n",
        "    client = speech.SpeechClient()\n",
        "    \n",
        "    second_lang=\"en-US\"\n",
        "    speech_context = speech.SpeechContext(phrases=[\"요\",\"여러분\"])\n",
        "    try: \n",
        "      with io.open(speech_file, \"rb\") as audio_file:\n",
        "          content = audio_file.read()\n",
        "      audio = speech.RecognitionAudio(content=content)\n",
        "      config = speech.RecognitionConfig(\n",
        "          language_code=\"ko-KR\",\n",
        "          audio_channel_count=2,\n",
        "          alternative_language_codes=[second_lang],\n",
        "          enable_automatic_punctuation=True,\n",
        "          speech_contexts=[speech_context]\n",
        "\n",
        "      )\n",
        "    except:\n",
        "      sys.exit()\n",
        "    '''response = client.recognize(config=config, audio=audio)\n",
        "    # Each result is for a consecutive portion of the audio. Iterate through\n",
        "    # them to get the transcripts for the entire audio file.\n",
        "    try:\n",
        "      if response.results == []:\n",
        "        print(n)\n",
        "      else:\n",
        "          for result in response.results:\n",
        "        # The first alternative is the most likely one for this portion.\n",
        "            print(result.alternatives[0].transcript)\n",
        "    except:\n",
        "      print(n)'''\n",
        "    \n",
        "    try:\n",
        "      response = client.recognize(config=config, audio=audio)\n",
        "    # Each result is for a consecutive portion of the audio. Iterate through\n",
        "    # them to get the transcripts for the entire audio file.\n",
        "\n",
        "      if response.results == []:\n",
        "        print(n)\n",
        "      else:\n",
        "          a=0\n",
        "          for result in response.results:\n",
        "            a=a+1\n",
        "          if a>1:\n",
        "            print(n)\n",
        "          else:\n",
        "            for result in response.results:\n",
        "        # The first alternative is the most likely one for this portion.\n",
        "              print(result.alternatives[0].transcript)\n",
        "    except:\n",
        "      print(n)\n",
        "          "
      ],
      "execution_count": null,
      "outputs": []
    },
    {
      "cell_type": "code",
      "metadata": {
        "id": "rynX2IkPqmq7"
      },
      "source": [
        "import glob, os, natsort\n",
        "n=0\n",
        "while True:\n",
        "  n=n+1\n",
        "  n=str(n)\n",
        "  if os.path.exists(\"/data/m/m (\"+n+\").wav\") == True:\n",
        "    transcribe_file(\"/data/m/m (\"+n+\").wav\")\n",
        "  else:\n",
        "    break\n",
        "  n=int(n)\n",
        "  continue"
      ],
      "execution_count": null,
      "outputs": []
    },
    {
      "cell_type": "code",
      "metadata": {
        "id": "l2W3L0sxoVg4"
      },
      "source": [
        "import glob, os, natsort\n",
        "n=0\n",
        "while True:\n",
        "  n=n+1\n",
        "  n=str(n)\n",
        "  if os.path.exists(\"/data/l/l2/l2 (\"+n+\").wav\") == True:\n",
        "    transcribe_file(\"/data/l/l2/l2 (\"+n+\").wav\")\n",
        "  else:\n",
        "    break\n",
        "  n=int(n)\n",
        "  continue"
      ],
      "execution_count": null,
      "outputs": []
    },
    {
      "cell_type": "code",
      "metadata": {
        "id": "FRKliGA5ce9A"
      },
      "source": [
        "import glob, os, natsort\n",
        "n=0\n",
        "while True:\n",
        "  n=n+1\n",
        "  n=str(n)\n",
        "  transcribe_file(\"/data/w/w (\"+n+\").wav\")\n",
        "  n=int(n)\n",
        "  continue"
      ],
      "execution_count": null,
      "outputs": []
    },
    {
      "cell_type": "markdown",
      "metadata": {
        "id": "_rdxA-aETgRe"
      },
      "source": [
        "짧은 파일(스토리지용)"
      ]
    },
    {
      "cell_type": "code",
      "metadata": {
        "id": "R5l7EJ2-qX88"
      },
      "source": [
        "import sys\n",
        "\n",
        "def transcribe_file(speech_file):\n",
        "    \"\"\"Transcribe the given audio file.\"\"\"\n",
        "    from google.cloud import speech_v1p1beta1 as speech\n",
        "    import io\n",
        "\n",
        "    client = speech.SpeechClient()\n",
        "    \n",
        "    second_lang=\"en-US\"\n",
        "    speech_context = speech.SpeechContext(phrases=[\"요\",\"여러분\"])\n",
        "\n",
        "    '''with io.open(speech_file, \"rb\") as audio_file:\n",
        "        content = audio_file.read()'''\n",
        "    try:\n",
        "      uri=speech_file\n",
        "      audio = speech.RecognitionAudio(uri=uri)\n",
        "      config = speech.RecognitionConfig(\n",
        "          language_code=\"ko-KR\",\n",
        "          audio_channel_count=2,\n",
        "          alternative_language_codes=[second_lang],\n",
        "          enable_automatic_punctuation=True,\n",
        "          speech_contexts=[speech_context]\n",
        "\n",
        "    )\n",
        "    except:\n",
        "      sys.exit()\n",
        "    try:\n",
        "      response = client.recognize(config=config, audio=audio)\n",
        "    # Each result is for a consecutive portion of the audio. Iterate through\n",
        "    # them to get the transcripts for the entire audio file.\n",
        "\n",
        "      if response.results == []:\n",
        "        print(n)\n",
        "      else:\n",
        "          a=0\n",
        "          for result in response.results:\n",
        "            a=a+1\n",
        "          if a>1:\n",
        "            print(n)\n",
        "          else:\n",
        "            for result in response.results:\n",
        "        # The first alternative is the most likely one for this portion.\n",
        "              print(result.alternatives[0].transcript)\n",
        "    except FileNotFoundError:\n",
        "      sys.exit()\n",
        "    except:\n",
        "      print(n)"
      ],
      "execution_count": null,
      "outputs": []
    },
    {
      "cell_type": "code",
      "metadata": {
        "id": "ksvtSL1TONuQ"
      },
      "source": [
        "import glob, os, natsort\n",
        "n=0\n",
        "while True:\n",
        "  n=n+1\n",
        "  n=str(n)\n",
        "  if os.path.exists(path) == True:\n",
        "    transcribe_file(\"gs://bucketkorea/data/w/w (\"+n+\").wav\")\n",
        "  else:\n",
        "    break\n",
        "  n=int(n)\n",
        "  continue"
      ],
      "execution_count": null,
      "outputs": []
    },
    {
      "cell_type": "markdown",
      "metadata": {
        "id": "aLrXnx3hLkte"
      },
      "source": [
        "짧은 파일(2명 이상의 화자)"
      ]
    },
    {
      "cell_type": "code",
      "metadata": {
        "id": "rSBWGSixXKbo"
      },
      "source": [
        "import os\n",
        "os.environ[\"GOOGLE_APPLICATION_CREDENTIALS\"]=\"/content/drive/MyDrive/Colab Notebooks/key/My First Project-80a108cb62e8.json\""
      ],
      "execution_count": null,
      "outputs": []
    },
    {
      "cell_type": "code",
      "metadata": {
        "id": "pmK5lZ0yLQLO"
      },
      "source": [
        "import sys\n",
        "def transcribe_file(speech_file):\n",
        "    \"\"\"Transcribe the given audio file.\"\"\"\n",
        "    from google.cloud import speech_v1p1beta1 as speech\n",
        "    import io\n",
        "\n",
        "    client = speech.SpeechClient()\n",
        "    \n",
        "    second_lang=\"en-US\"\n",
        "    speech_context = speech.SpeechContext(phrases=[\"요\",\"여러분\"])\n",
        "    try: \n",
        "      with io.open(speech_file, \"rb\") as audio_file:\n",
        "          content = audio_file.read()\n",
        "      audio = speech.RecognitionAudio(content=content)\n",
        "      config = speech.RecognitionConfig(\n",
        "          language_code=\"ko-KR\",\n",
        "          audio_channel_count=2,\n",
        "          alternative_language_codes=[second_lang],\n",
        "          enable_automatic_punctuation=True,\n",
        "          speech_contexts=[speech_context],\n",
        "          enable_speaker_diarization=True,\n",
        "          diarization_speaker_count=2,\n",
        "\n",
        "      )\n",
        "    except:\n",
        "      sys.exit()\n",
        "    '''response = client.recognize(config=config, audio=audio)\n",
        "    # Each result is for a consecutive portion of the audio. Iterate through\n",
        "    # them to get the transcripts for the entire audio file.\n",
        "    try:\n",
        "      if response.results == []:\n",
        "        print(n)\n",
        "      else:\n",
        "          for result in response.results:\n",
        "        # The first alternative is the most likely one for this portion.\n",
        "            print(result.alternatives[0].transcript)\n",
        "    except:\n",
        "      print(n)'''\n",
        "    \n",
        "    try:\n",
        "      response = client.recognize(config=config, audio=audio)\n",
        "    # Each result is for a consecutive portion of the audio. Iterate through\n",
        "    # them to get the transcripts for the entire audio file.\n",
        "      if response.results == []:\n",
        "        print(n)\n",
        "      else:\n",
        "          a=0\n",
        "          for result in response.results:\n",
        "            a=a+1\n",
        "          if a>100:\n",
        "            print(n)\n",
        "          else:\n",
        "            result = response.results[-1]\n",
        "\n",
        "            words_info = result.alternatives[0].words\n",
        "\n",
        "            # Printing out the output:\n",
        "            for word_info in words_info:\n",
        "              print(\n",
        "                  u\"word: '{}', speaker_tag: {}\".format(word_info.word, word_info.speaker_tag), n\n",
        "           )\n",
        "    except:\n",
        "      print(n)\n",
        "          "
      ],
      "execution_count": null,
      "outputs": []
    },
    {
      "cell_type": "code",
      "metadata": {
        "id": "4rxOB2L4LpcA"
      },
      "source": [
        "import glob, os, natsort\n",
        "n=0\n",
        "while True:\n",
        "  n=n+1\n",
        "  n=str(n)\n",
        "  if os.path.exists(\"/content/drive/MyDrive/Colab Notebooks/data/reserve/x/f1/x (\"+n+\").wav\") == True:\n",
        "    transcribe_file(\"/content/drive/MyDrive/Colab Notebooks/data/reserve/x/f1/x (\"+n+\").wav\")\n",
        "  else:\n",
        "    break\n",
        "  n=int(n)\n",
        "  continue"
      ],
      "execution_count": 1,
      "outputs": []
    },
    {
      "cell_type": "code",
      "metadata": {
        "id": "1Nq2Ik4cLU9n"
      },
      "source": [
        "import glob, os, natsort\n",
        "n=0\n",
        "while True:\n",
        "  n=n+1\n",
        "  n=str(n)\n",
        "  if os.path.exists(\"/data/m/m (\"+n+\").wav\") == True:\n",
        "    transcribe_file(\"/data/m/m (\"+n+\").wav\")\n",
        "  else:\n",
        "    break\n",
        "  n=int(n)\n",
        "  continue"
      ],
      "execution_count": null,
      "outputs": []
    },
    {
      "cell_type": "code",
      "metadata": {
        "id": "wTNF-en5Mcy1",
        "colab": {
          "base_uri": "https://localhost:8080/",
          "height": 358
        },
        "outputId": "3b676bcb-4f0d-46c6-bb3c-0b09889ab08b"
      },
      "source": [
        "import glob, os\n",
        "a=sorted(glob.glob(\"/content/drive/MyDrive/Colab Notebooks/data/audio/a/*.wav\"))\n",
        "for file in a:\n",
        "    transcribe_file(file)"
      ],
      "execution_count": null,
      "outputs": [
        {
          "output_type": "error",
          "ename": "ContextualVersionConflict",
          "evalue": "ignored",
          "traceback": [
            "\u001b[0;31m---------------------------------------------------------------------------\u001b[0m",
            "\u001b[0;31mContextualVersionConflict\u001b[0m                 Traceback (most recent call last)",
            "\u001b[0;32m<ipython-input-18-173d134d56e2>\u001b[0m in \u001b[0;36m<module>\u001b[0;34m()\u001b[0m\n\u001b[1;32m      2\u001b[0m \u001b[0ma\u001b[0m\u001b[0;34m=\u001b[0m\u001b[0msorted\u001b[0m\u001b[0;34m(\u001b[0m\u001b[0mglob\u001b[0m\u001b[0;34m.\u001b[0m\u001b[0mglob\u001b[0m\u001b[0;34m(\u001b[0m\u001b[0;34m\"/content/drive/MyDrive/Colab Notebooks/data/audio/a/*.wav\"\u001b[0m\u001b[0;34m)\u001b[0m\u001b[0;34m)\u001b[0m\u001b[0;34m\u001b[0m\u001b[0;34m\u001b[0m\u001b[0m\n\u001b[1;32m      3\u001b[0m \u001b[0;32mfor\u001b[0m \u001b[0mfile\u001b[0m \u001b[0;32min\u001b[0m \u001b[0ma\u001b[0m\u001b[0;34m:\u001b[0m\u001b[0;34m\u001b[0m\u001b[0;34m\u001b[0m\u001b[0m\n\u001b[0;32m----> 4\u001b[0;31m     \u001b[0mtranscribe_file\u001b[0m\u001b[0;34m(\u001b[0m\u001b[0mfile\u001b[0m\u001b[0;34m)\u001b[0m\u001b[0;34m\u001b[0m\u001b[0;34m\u001b[0m\u001b[0m\n\u001b[0m",
            "\u001b[0;32m<ipython-input-17-891d35804f70>\u001b[0m in \u001b[0;36mtranscribe_file\u001b[0;34m(speech_file)\u001b[0m\n\u001b[1;32m      1\u001b[0m \u001b[0;32mdef\u001b[0m \u001b[0mtranscribe_file\u001b[0m\u001b[0;34m(\u001b[0m\u001b[0mspeech_file\u001b[0m\u001b[0;34m)\u001b[0m\u001b[0;34m:\u001b[0m\u001b[0;34m\u001b[0m\u001b[0;34m\u001b[0m\u001b[0m\n\u001b[1;32m      2\u001b[0m     \u001b[0;34m\"\"\"Transcribe the given audio file.\"\"\"\u001b[0m\u001b[0;34m\u001b[0m\u001b[0;34m\u001b[0m\u001b[0m\n\u001b[0;32m----> 3\u001b[0;31m     \u001b[0;32mfrom\u001b[0m \u001b[0mgoogle\u001b[0m\u001b[0;34m.\u001b[0m\u001b[0mcloud\u001b[0m \u001b[0;32mimport\u001b[0m \u001b[0mspeech_v1p1beta1\u001b[0m\u001b[0;34m\u001b[0m\u001b[0;34m\u001b[0m\u001b[0m\n\u001b[0m\u001b[1;32m      4\u001b[0m     \u001b[0;32mimport\u001b[0m \u001b[0mio\u001b[0m\u001b[0;34m\u001b[0m\u001b[0;34m\u001b[0m\u001b[0m\n\u001b[1;32m      5\u001b[0m \u001b[0;34m\u001b[0m\u001b[0m\n",
            "\u001b[0;32m/usr/local/lib/python3.6/dist-packages/google/cloud/speech_v1p1beta1/__init__.py\u001b[0m in \u001b[0;36m<module>\u001b[0;34m()\u001b[0m\n\u001b[1;32m     16\u001b[0m \u001b[0;31m#\u001b[0m\u001b[0;34m\u001b[0m\u001b[0;34m\u001b[0m\u001b[0;34m\u001b[0m\u001b[0m\n\u001b[1;32m     17\u001b[0m \u001b[0;34m\u001b[0m\u001b[0m\n\u001b[0;32m---> 18\u001b[0;31m \u001b[0;32mfrom\u001b[0m \u001b[0;34m.\u001b[0m\u001b[0mservices\u001b[0m\u001b[0;34m.\u001b[0m\u001b[0mspeech\u001b[0m \u001b[0;32mimport\u001b[0m \u001b[0mSpeechClient\u001b[0m\u001b[0;34m\u001b[0m\u001b[0;34m\u001b[0m\u001b[0m\n\u001b[0m\u001b[1;32m     19\u001b[0m \u001b[0;32mfrom\u001b[0m \u001b[0;34m.\u001b[0m\u001b[0mtypes\u001b[0m\u001b[0;34m.\u001b[0m\u001b[0mcloud_speech\u001b[0m \u001b[0;32mimport\u001b[0m \u001b[0mLongRunningRecognizeMetadata\u001b[0m\u001b[0;34m\u001b[0m\u001b[0;34m\u001b[0m\u001b[0m\n\u001b[1;32m     20\u001b[0m \u001b[0;32mfrom\u001b[0m \u001b[0;34m.\u001b[0m\u001b[0mtypes\u001b[0m\u001b[0;34m.\u001b[0m\u001b[0mcloud_speech\u001b[0m \u001b[0;32mimport\u001b[0m \u001b[0mLongRunningRecognizeRequest\u001b[0m\u001b[0;34m\u001b[0m\u001b[0;34m\u001b[0m\u001b[0m\n",
            "\u001b[0;32m/usr/local/lib/python3.6/dist-packages/google/cloud/speech_v1p1beta1/services/speech/__init__.py\u001b[0m in \u001b[0;36m<module>\u001b[0;34m()\u001b[0m\n\u001b[1;32m     16\u001b[0m \u001b[0;31m#\u001b[0m\u001b[0;34m\u001b[0m\u001b[0;34m\u001b[0m\u001b[0;34m\u001b[0m\u001b[0m\n\u001b[1;32m     17\u001b[0m \u001b[0;34m\u001b[0m\u001b[0m\n\u001b[0;32m---> 18\u001b[0;31m \u001b[0;32mfrom\u001b[0m \u001b[0;34m.\u001b[0m\u001b[0mclient\u001b[0m \u001b[0;32mimport\u001b[0m \u001b[0mSpeechClient\u001b[0m\u001b[0;34m\u001b[0m\u001b[0;34m\u001b[0m\u001b[0m\n\u001b[0m\u001b[1;32m     19\u001b[0m \u001b[0;32mfrom\u001b[0m \u001b[0;34m.\u001b[0m\u001b[0masync_client\u001b[0m \u001b[0;32mimport\u001b[0m \u001b[0mSpeechAsyncClient\u001b[0m\u001b[0;34m\u001b[0m\u001b[0;34m\u001b[0m\u001b[0m\n\u001b[1;32m     20\u001b[0m \u001b[0;34m\u001b[0m\u001b[0m\n",
            "\u001b[0;32m/usr/local/lib/python3.6/dist-packages/google/cloud/speech_v1p1beta1/services/speech/client.py\u001b[0m in \u001b[0;36m<module>\u001b[0;34m()\u001b[0m\n\u001b[1;32m     48\u001b[0m \u001b[0;32mfrom\u001b[0m \u001b[0mgoogle\u001b[0m\u001b[0;34m.\u001b[0m\u001b[0mrpc\u001b[0m \u001b[0;32mimport\u001b[0m \u001b[0mstatus_pb2\u001b[0m \u001b[0;32mas\u001b[0m \u001b[0mstatus\u001b[0m  \u001b[0;31m# type: ignore\u001b[0m\u001b[0;34m\u001b[0m\u001b[0;34m\u001b[0m\u001b[0m\n\u001b[1;32m     49\u001b[0m \u001b[0;34m\u001b[0m\u001b[0m\n\u001b[0;32m---> 50\u001b[0;31m \u001b[0;32mfrom\u001b[0m \u001b[0;34m.\u001b[0m\u001b[0mtransports\u001b[0m\u001b[0;34m.\u001b[0m\u001b[0mbase\u001b[0m \u001b[0;32mimport\u001b[0m \u001b[0mSpeechTransport\u001b[0m\u001b[0;34m,\u001b[0m \u001b[0mDEFAULT_CLIENT_INFO\u001b[0m\u001b[0;34m\u001b[0m\u001b[0;34m\u001b[0m\u001b[0m\n\u001b[0m\u001b[1;32m     51\u001b[0m \u001b[0;32mfrom\u001b[0m \u001b[0;34m.\u001b[0m\u001b[0mtransports\u001b[0m\u001b[0;34m.\u001b[0m\u001b[0mgrpc\u001b[0m \u001b[0;32mimport\u001b[0m \u001b[0mSpeechGrpcTransport\u001b[0m\u001b[0;34m\u001b[0m\u001b[0;34m\u001b[0m\u001b[0m\n\u001b[1;32m     52\u001b[0m \u001b[0;32mfrom\u001b[0m \u001b[0;34m.\u001b[0m\u001b[0mtransports\u001b[0m\u001b[0;34m.\u001b[0m\u001b[0mgrpc_asyncio\u001b[0m \u001b[0;32mimport\u001b[0m \u001b[0mSpeechGrpcAsyncIOTransport\u001b[0m\u001b[0;34m\u001b[0m\u001b[0;34m\u001b[0m\u001b[0m\n",
            "\u001b[0;32m/usr/local/lib/python3.6/dist-packages/google/cloud/speech_v1p1beta1/services/speech/transports/__init__.py\u001b[0m in \u001b[0;36m<module>\u001b[0;34m()\u001b[0m\n\u001b[1;32m     19\u001b[0m \u001b[0;32mfrom\u001b[0m \u001b[0mtyping\u001b[0m \u001b[0;32mimport\u001b[0m \u001b[0mDict\u001b[0m\u001b[0;34m,\u001b[0m \u001b[0mType\u001b[0m\u001b[0;34m\u001b[0m\u001b[0;34m\u001b[0m\u001b[0m\n\u001b[1;32m     20\u001b[0m \u001b[0;34m\u001b[0m\u001b[0m\n\u001b[0;32m---> 21\u001b[0;31m \u001b[0;32mfrom\u001b[0m \u001b[0;34m.\u001b[0m\u001b[0mbase\u001b[0m \u001b[0;32mimport\u001b[0m \u001b[0mSpeechTransport\u001b[0m\u001b[0;34m\u001b[0m\u001b[0;34m\u001b[0m\u001b[0m\n\u001b[0m\u001b[1;32m     22\u001b[0m \u001b[0;32mfrom\u001b[0m \u001b[0;34m.\u001b[0m\u001b[0mgrpc\u001b[0m \u001b[0;32mimport\u001b[0m \u001b[0mSpeechGrpcTransport\u001b[0m\u001b[0;34m\u001b[0m\u001b[0;34m\u001b[0m\u001b[0m\n\u001b[1;32m     23\u001b[0m \u001b[0;32mfrom\u001b[0m \u001b[0;34m.\u001b[0m\u001b[0mgrpc_asyncio\u001b[0m \u001b[0;32mimport\u001b[0m \u001b[0mSpeechGrpcAsyncIOTransport\u001b[0m\u001b[0;34m\u001b[0m\u001b[0;34m\u001b[0m\u001b[0m\n",
            "\u001b[0;32m/usr/local/lib/python3.6/dist-packages/google/cloud/speech_v1p1beta1/services/speech/transports/base.py\u001b[0m in \u001b[0;36m<module>\u001b[0;34m()\u001b[0m\n\u001b[1;32m     33\u001b[0m \u001b[0;32mtry\u001b[0m\u001b[0;34m:\u001b[0m\u001b[0;34m\u001b[0m\u001b[0;34m\u001b[0m\u001b[0m\n\u001b[1;32m     34\u001b[0m     DEFAULT_CLIENT_INFO = gapic_v1.client_info.ClientInfo(\n\u001b[0;32m---> 35\u001b[0;31m         \u001b[0mgapic_version\u001b[0m\u001b[0;34m=\u001b[0m\u001b[0mpkg_resources\u001b[0m\u001b[0;34m.\u001b[0m\u001b[0mget_distribution\u001b[0m\u001b[0;34m(\u001b[0m\u001b[0;34m\"google-cloud-speech\"\u001b[0m\u001b[0;34m,\u001b[0m\u001b[0;34m)\u001b[0m\u001b[0;34m.\u001b[0m\u001b[0mversion\u001b[0m\u001b[0;34m,\u001b[0m\u001b[0;34m\u001b[0m\u001b[0;34m\u001b[0m\u001b[0m\n\u001b[0m\u001b[1;32m     36\u001b[0m     )\n\u001b[1;32m     37\u001b[0m \u001b[0;32mexcept\u001b[0m \u001b[0mpkg_resources\u001b[0m\u001b[0;34m.\u001b[0m\u001b[0mDistributionNotFound\u001b[0m\u001b[0;34m:\u001b[0m\u001b[0;34m\u001b[0m\u001b[0;34m\u001b[0m\u001b[0m\n",
            "\u001b[0;32m/usr/local/lib/python3.6/dist-packages/pkg_resources/__init__.py\u001b[0m in \u001b[0;36mget_distribution\u001b[0;34m(dist)\u001b[0m\n\u001b[1;32m    463\u001b[0m         \u001b[0mdist\u001b[0m \u001b[0;34m=\u001b[0m \u001b[0mRequirement\u001b[0m\u001b[0;34m.\u001b[0m\u001b[0mparse\u001b[0m\u001b[0;34m(\u001b[0m\u001b[0mdist\u001b[0m\u001b[0;34m)\u001b[0m\u001b[0;34m\u001b[0m\u001b[0;34m\u001b[0m\u001b[0m\n\u001b[1;32m    464\u001b[0m     \u001b[0;32mif\u001b[0m \u001b[0misinstance\u001b[0m\u001b[0;34m(\u001b[0m\u001b[0mdist\u001b[0m\u001b[0;34m,\u001b[0m \u001b[0mRequirement\u001b[0m\u001b[0;34m)\u001b[0m\u001b[0;34m:\u001b[0m\u001b[0;34m\u001b[0m\u001b[0;34m\u001b[0m\u001b[0m\n\u001b[0;32m--> 465\u001b[0;31m         \u001b[0mdist\u001b[0m \u001b[0;34m=\u001b[0m \u001b[0mget_provider\u001b[0m\u001b[0;34m(\u001b[0m\u001b[0mdist\u001b[0m\u001b[0;34m)\u001b[0m\u001b[0;34m\u001b[0m\u001b[0;34m\u001b[0m\u001b[0m\n\u001b[0m\u001b[1;32m    466\u001b[0m     \u001b[0;32mif\u001b[0m \u001b[0;32mnot\u001b[0m \u001b[0misinstance\u001b[0m\u001b[0;34m(\u001b[0m\u001b[0mdist\u001b[0m\u001b[0;34m,\u001b[0m \u001b[0mDistribution\u001b[0m\u001b[0;34m)\u001b[0m\u001b[0;34m:\u001b[0m\u001b[0;34m\u001b[0m\u001b[0;34m\u001b[0m\u001b[0m\n\u001b[1;32m    467\u001b[0m         \u001b[0;32mraise\u001b[0m \u001b[0mTypeError\u001b[0m\u001b[0;34m(\u001b[0m\u001b[0;34m\"Expected string, Requirement, or Distribution\"\u001b[0m\u001b[0;34m,\u001b[0m \u001b[0mdist\u001b[0m\u001b[0;34m)\u001b[0m\u001b[0;34m\u001b[0m\u001b[0;34m\u001b[0m\u001b[0m\n",
            "\u001b[0;32m/usr/local/lib/python3.6/dist-packages/pkg_resources/__init__.py\u001b[0m in \u001b[0;36mget_provider\u001b[0;34m(moduleOrReq)\u001b[0m\n\u001b[1;32m    339\u001b[0m     \u001b[0;34m\"\"\"Return an IResourceProvider for the named module or requirement\"\"\"\u001b[0m\u001b[0;34m\u001b[0m\u001b[0;34m\u001b[0m\u001b[0m\n\u001b[1;32m    340\u001b[0m     \u001b[0;32mif\u001b[0m \u001b[0misinstance\u001b[0m\u001b[0;34m(\u001b[0m\u001b[0mmoduleOrReq\u001b[0m\u001b[0;34m,\u001b[0m \u001b[0mRequirement\u001b[0m\u001b[0;34m)\u001b[0m\u001b[0;34m:\u001b[0m\u001b[0;34m\u001b[0m\u001b[0;34m\u001b[0m\u001b[0m\n\u001b[0;32m--> 341\u001b[0;31m         \u001b[0;32mreturn\u001b[0m \u001b[0mworking_set\u001b[0m\u001b[0;34m.\u001b[0m\u001b[0mfind\u001b[0m\u001b[0;34m(\u001b[0m\u001b[0mmoduleOrReq\u001b[0m\u001b[0;34m)\u001b[0m \u001b[0;32mor\u001b[0m \u001b[0mrequire\u001b[0m\u001b[0;34m(\u001b[0m\u001b[0mstr\u001b[0m\u001b[0;34m(\u001b[0m\u001b[0mmoduleOrReq\u001b[0m\u001b[0;34m)\u001b[0m\u001b[0;34m)\u001b[0m\u001b[0;34m[\u001b[0m\u001b[0;36m0\u001b[0m\u001b[0;34m]\u001b[0m\u001b[0;34m\u001b[0m\u001b[0;34m\u001b[0m\u001b[0m\n\u001b[0m\u001b[1;32m    342\u001b[0m     \u001b[0;32mtry\u001b[0m\u001b[0;34m:\u001b[0m\u001b[0;34m\u001b[0m\u001b[0;34m\u001b[0m\u001b[0m\n\u001b[1;32m    343\u001b[0m         \u001b[0mmodule\u001b[0m \u001b[0;34m=\u001b[0m \u001b[0msys\u001b[0m\u001b[0;34m.\u001b[0m\u001b[0mmodules\u001b[0m\u001b[0;34m[\u001b[0m\u001b[0mmoduleOrReq\u001b[0m\u001b[0;34m]\u001b[0m\u001b[0;34m\u001b[0m\u001b[0;34m\u001b[0m\u001b[0m\n",
            "\u001b[0;32m/usr/local/lib/python3.6/dist-packages/pkg_resources/__init__.py\u001b[0m in \u001b[0;36mrequire\u001b[0;34m(self, *requirements)\u001b[0m\n\u001b[1;32m    882\u001b[0m         \u001b[0mincluded\u001b[0m\u001b[0;34m,\u001b[0m \u001b[0meven\u001b[0m \u001b[0;32mif\u001b[0m \u001b[0mthey\u001b[0m \u001b[0mwere\u001b[0m \u001b[0malready\u001b[0m \u001b[0mactivated\u001b[0m \u001b[0;32min\u001b[0m \u001b[0mthis\u001b[0m \u001b[0mworking\u001b[0m \u001b[0mset\u001b[0m\u001b[0;34m.\u001b[0m\u001b[0;34m\u001b[0m\u001b[0;34m\u001b[0m\u001b[0m\n\u001b[1;32m    883\u001b[0m         \"\"\"\n\u001b[0;32m--> 884\u001b[0;31m         \u001b[0mneeded\u001b[0m \u001b[0;34m=\u001b[0m \u001b[0mself\u001b[0m\u001b[0;34m.\u001b[0m\u001b[0mresolve\u001b[0m\u001b[0;34m(\u001b[0m\u001b[0mparse_requirements\u001b[0m\u001b[0;34m(\u001b[0m\u001b[0mrequirements\u001b[0m\u001b[0;34m)\u001b[0m\u001b[0;34m)\u001b[0m\u001b[0;34m\u001b[0m\u001b[0;34m\u001b[0m\u001b[0m\n\u001b[0m\u001b[1;32m    885\u001b[0m \u001b[0;34m\u001b[0m\u001b[0m\n\u001b[1;32m    886\u001b[0m         \u001b[0;32mfor\u001b[0m \u001b[0mdist\u001b[0m \u001b[0;32min\u001b[0m \u001b[0mneeded\u001b[0m\u001b[0;34m:\u001b[0m\u001b[0;34m\u001b[0m\u001b[0;34m\u001b[0m\u001b[0m\n",
            "\u001b[0;32m/usr/local/lib/python3.6/dist-packages/pkg_resources/__init__.py\u001b[0m in \u001b[0;36mresolve\u001b[0;34m(self, requirements, env, installer, replace_conflicting, extras)\u001b[0m\n\u001b[1;32m    773\u001b[0m                 \u001b[0;31m# Oops, the \"best\" so far conflicts with a dependency\u001b[0m\u001b[0;34m\u001b[0m\u001b[0;34m\u001b[0m\u001b[0;34m\u001b[0m\u001b[0m\n\u001b[1;32m    774\u001b[0m                 \u001b[0mdependent_req\u001b[0m \u001b[0;34m=\u001b[0m \u001b[0mrequired_by\u001b[0m\u001b[0;34m[\u001b[0m\u001b[0mreq\u001b[0m\u001b[0;34m]\u001b[0m\u001b[0;34m\u001b[0m\u001b[0;34m\u001b[0m\u001b[0m\n\u001b[0;32m--> 775\u001b[0;31m                 \u001b[0;32mraise\u001b[0m \u001b[0mVersionConflict\u001b[0m\u001b[0;34m(\u001b[0m\u001b[0mdist\u001b[0m\u001b[0;34m,\u001b[0m \u001b[0mreq\u001b[0m\u001b[0;34m)\u001b[0m\u001b[0;34m.\u001b[0m\u001b[0mwith_context\u001b[0m\u001b[0;34m(\u001b[0m\u001b[0mdependent_req\u001b[0m\u001b[0;34m)\u001b[0m\u001b[0;34m\u001b[0m\u001b[0;34m\u001b[0m\u001b[0m\n\u001b[0m\u001b[1;32m    776\u001b[0m \u001b[0;34m\u001b[0m\u001b[0m\n\u001b[1;32m    777\u001b[0m             \u001b[0;31m# push the new requirements onto the stack\u001b[0m\u001b[0;34m\u001b[0m\u001b[0;34m\u001b[0m\u001b[0;34m\u001b[0m\u001b[0m\n",
            "\u001b[0;31mContextualVersionConflict\u001b[0m: (google-api-core 1.16.0 (/usr/local/lib/python3.6/dist-packages), Requirement.parse('google-api-core[grpc]<2.0.0dev,>=1.22.2'), {'google-cloud-speech'})"
          ]
        }
      ]
    },
    {
      "cell_type": "code",
      "metadata": {
        "colab": {
          "base_uri": "https://localhost:8080/",
          "height": 236
        },
        "id": "wz7NbPC93tWq",
        "outputId": "f830b20d-34b0-4738-fb30-b51f8bca9d49"
      },
      "source": [
        "import glob, os, natsort\n",
        "n=0\n",
        "while True:\n",
        "  a=glob.glob(\"/content/drive/MyDrive/Colab Notebooks/data/audio/a/a (\"+n+\").wav\")\n",
        "  a=sorted(a)\n",
        "for file in a:\n",
        "    transcribe_file(file)"
      ],
      "execution_count": 2,
      "outputs": [
        {
          "output_type": "error",
          "ename": "TypeError",
          "evalue": "ignored",
          "traceback": [
            "\u001b[0;31m---------------------------------------------------------------------------\u001b[0m",
            "\u001b[0;31mTypeError\u001b[0m                                 Traceback (most recent call last)",
            "\u001b[0;32m<ipython-input-2-cf03e9322afc>\u001b[0m in \u001b[0;36m<module>\u001b[0;34m\u001b[0m\n\u001b[1;32m      2\u001b[0m \u001b[0mn\u001b[0m\u001b[0;34m=\u001b[0m\u001b[0;36m0\u001b[0m\u001b[0;34m\u001b[0m\u001b[0;34m\u001b[0m\u001b[0m\n\u001b[1;32m      3\u001b[0m \u001b[0;32mwhile\u001b[0m \u001b[0;32mTrue\u001b[0m\u001b[0;34m:\u001b[0m\u001b[0;34m\u001b[0m\u001b[0;34m\u001b[0m\u001b[0m\n\u001b[0;32m----> 4\u001b[0;31m   \u001b[0ma\u001b[0m\u001b[0;34m=\u001b[0m\u001b[0mglob\u001b[0m\u001b[0;34m.\u001b[0m\u001b[0mglob\u001b[0m\u001b[0;34m(\u001b[0m\u001b[0;34m\"/content/drive/MyDrive/Colab Notebooks/data/audio/a/a (\"\u001b[0m\u001b[0;34m+\u001b[0m\u001b[0mn\u001b[0m\u001b[0;34m+\u001b[0m\u001b[0;34m\").wav\"\u001b[0m\u001b[0;34m)\u001b[0m\u001b[0;34m\u001b[0m\u001b[0;34m\u001b[0m\u001b[0m\n\u001b[0m\u001b[1;32m      5\u001b[0m   \u001b[0ma\u001b[0m\u001b[0;34m=\u001b[0m\u001b[0msorted\u001b[0m\u001b[0;34m(\u001b[0m\u001b[0ma\u001b[0m\u001b[0;34m)\u001b[0m\u001b[0;34m\u001b[0m\u001b[0;34m\u001b[0m\u001b[0m\n\u001b[1;32m      6\u001b[0m \u001b[0;32mfor\u001b[0m \u001b[0mfile\u001b[0m \u001b[0;32min\u001b[0m \u001b[0ma\u001b[0m\u001b[0;34m:\u001b[0m\u001b[0;34m\u001b[0m\u001b[0;34m\u001b[0m\u001b[0m\n",
            "\u001b[0;31mTypeError\u001b[0m: can only concatenate str (not \"int\") to str"
          ]
        }
      ]
    },
    {
      "cell_type": "code",
      "metadata": {
        "id": "uUMcPE7fVZKg"
      },
      "source": [
        "def transcribe_file(speech_file):\n",
        "    \"\"\"Transcribe the given audio file asynchronously.\"\"\"\n",
        "    from google.cloud import speech\n",
        "    import io\n",
        "    client = speech.SpeechClient()\n",
        "\n",
        "    with io.open(speech_file, \"rb\") as audio_file:\n",
        "        content = audio_file.read()\n",
        "\n",
        "    \"\"\"\n",
        "     Note that transcription is limited to a 60 seconds audio file.\n",
        "     Use a GCS file for audio longer than 1 minute.\n",
        "    \"\"\"\n",
        "    audio = speech.RecognitionAudio(content=content)\n",
        "\n",
        "    config = speech.RecognitionConfig(\n",
        "        encoding=speech.RecognitionConfig.AudioEncoding.LINEAR16,\n",
        "        sample_rate_hertz=16000,\n",
        "        language_code=\"ko-KR\",\n",
        "    )\n",
        "\n",
        "    operation = client.long_running_recognize(config=config, audio=audio)\n",
        "\n",
        "    print(\"Waiting for operation to complete...\")\n",
        "    response = operation.result(timeout=90)\n",
        "\n",
        "    # Each result is for a consecutive portion of the audio. Iterate through\n",
        "    # them to get the transcripts for the entire audio file.\n",
        "    for result in response.results:\n",
        "        # The first alternative is the most likely one for this portion.\n",
        "        print(u\"Transcript: {}\".format(result.alternatives[0].transcript))\n",
        "        print(\"Confidence: {}\".format(result.alternatives[0].confidence))\n"
      ],
      "execution_count": null,
      "outputs": []
    },
    {
      "cell_type": "code",
      "metadata": {
        "colab": {
          "base_uri": "https://localhost:8080/",
          "height": 298
        },
        "id": "yTYIVBlDa8V7",
        "outputId": "7e51a10d-429b-4781-aaa0-8a1d9b210658"
      },
      "source": [
        "transcribe_file('gs://bucketkorea/data/q/q (342).wav')"
      ],
      "execution_count": null,
      "outputs": [
        {
          "output_type": "error",
          "ename": "FileNotFoundError",
          "evalue": "ignored",
          "traceback": [
            "\u001b[0;31m---------------------------------------------------------------------------\u001b[0m",
            "\u001b[0;31mFileNotFoundError\u001b[0m                         Traceback (most recent call last)",
            "\u001b[0;32m<ipython-input-8-c750018aef85>\u001b[0m in \u001b[0;36m<module>\u001b[0;34m()\u001b[0m\n\u001b[0;32m----> 1\u001b[0;31m \u001b[0mtranscribe_file\u001b[0m\u001b[0;34m(\u001b[0m\u001b[0;34m'gs://bucketkorea/data/q/q (342).wav'\u001b[0m\u001b[0;34m)\u001b[0m\u001b[0;34m\u001b[0m\u001b[0;34m\u001b[0m\u001b[0m\n\u001b[0m",
            "\u001b[0;32m<ipython-input-6-78423340630d>\u001b[0m in \u001b[0;36mtranscribe_file\u001b[0;34m(speech_file)\u001b[0m\n\u001b[1;32m      5\u001b[0m     \u001b[0mclient\u001b[0m \u001b[0;34m=\u001b[0m \u001b[0mspeech\u001b[0m\u001b[0;34m.\u001b[0m\u001b[0mSpeechClient\u001b[0m\u001b[0;34m(\u001b[0m\u001b[0;34m)\u001b[0m\u001b[0;34m\u001b[0m\u001b[0;34m\u001b[0m\u001b[0m\n\u001b[1;32m      6\u001b[0m \u001b[0;34m\u001b[0m\u001b[0m\n\u001b[0;32m----> 7\u001b[0;31m     \u001b[0;32mwith\u001b[0m \u001b[0mio\u001b[0m\u001b[0;34m.\u001b[0m\u001b[0mopen\u001b[0m\u001b[0;34m(\u001b[0m\u001b[0mspeech_file\u001b[0m\u001b[0;34m,\u001b[0m \u001b[0;34m\"rb\"\u001b[0m\u001b[0;34m)\u001b[0m \u001b[0;32mas\u001b[0m \u001b[0maudio_file\u001b[0m\u001b[0;34m:\u001b[0m\u001b[0;34m\u001b[0m\u001b[0;34m\u001b[0m\u001b[0m\n\u001b[0m\u001b[1;32m      8\u001b[0m         \u001b[0mcontent\u001b[0m \u001b[0;34m=\u001b[0m \u001b[0maudio_file\u001b[0m\u001b[0;34m.\u001b[0m\u001b[0mread\u001b[0m\u001b[0;34m(\u001b[0m\u001b[0;34m)\u001b[0m\u001b[0;34m\u001b[0m\u001b[0;34m\u001b[0m\u001b[0m\n\u001b[1;32m      9\u001b[0m \u001b[0;34m\u001b[0m\u001b[0m\n",
            "\u001b[0;31mFileNotFoundError\u001b[0m: [Errno 2] No such file or directory: 'gs://bucketkorea/data/q/q (342).wav'"
          ]
        }
      ]
    },
    {
      "cell_type": "code",
      "metadata": {
        "id": "ENRHMmPLds_p"
      },
      "source": [
        "# Imports the Google Cloud client library\n",
        "#from google.cloud import speech\n",
        "from google.cloud import speech_v1p1beta1 as speech\n",
        "\n",
        "# Instantiates a client\n",
        "client = speech.SpeechClient()\n",
        "\n",
        "# The name of the audio file to transcribe\n",
        "gcs_uri = \"gs://bucketkorea/data/q/q (343).wav\"\n",
        "first_lang=\"ko-KR\"\n",
        "second_lang=\"en-US\"\n",
        "audio = speech.RecognitionAudio(uri=gcs_uri)\n",
        "\n",
        "config = speech.RecognitionConfig(\n",
        "    language_code=\"ko-KR\",\n",
        "    audio_channel_count=2,\n",
        "    alternative_language_codes=[second_lang],\n",
        "    enable_automatic_punctuation=True,\n",
        "    enable_word_time_offsets=True\n",
        ")\n",
        "\n",
        "# Detects speech in the audio file\n",
        "operation = client.long_running_recognize(config=config, audio=audio)\n",
        "response = operation.result()\n",
        "\n",
        "# Each result is for a consecutive portion of the audio. Iterate through\n",
        "# them to get the transcripts for the entire audio file.\n",
        "print(response)\n",
        "for result in response.results:\n",
        "  # The first alternative is the most likely one for this portion.\n",
        "  print(u\"Transcript: {}\".format(result.alternatives[0].transcript))\n",
        "  # print(\"Confidence: {}\".format(result.alternatives[0].confidence))\n"
      ],
      "execution_count": null,
      "outputs": []
    },
    {
      "cell_type": "code",
      "metadata": {
        "colab": {
          "base_uri": "https://localhost:8080/",
          "height": 374
        },
        "id": "e2-EShkJym9_",
        "outputId": "4d71331d-3d81-4f2e-8549-6986d91c2383"
      },
      "source": [
        "from google.cloud import speech_v1p1beta1 as speech\n",
        "\n",
        "client = speech.SpeechClient()\n",
        "\n",
        "speech_file = \"resources/commercial_mono.wav\"\n",
        "gcs_uri = \"gs://bucketkorea/data/test.wav\"\n",
        "second_lang=\"en-US\"\n",
        "\n",
        "\n",
        "audio = speech.RecognitionAudio(uri=gcs_uri)\n",
        "\n",
        "config = speech.RecognitionConfig(\n",
        "    language_code=\"ko-KR\",\n",
        "    audio_channel_count=2,\n",
        "    alternative_language_codes=[second_lang],\n",
        "    enable_automatic_punctuation=True,\n",
        "    enable_word_time_offsets=True,\n",
        "    enable_speaker_diarization=True,\n",
        "    diarization_speaker_count=2,\n",
        ")\n",
        "\n",
        "print(\"Waiting for operation to complete...\")\n",
        "response = client.long_running_recognize(config=config, audio=audio)\n",
        "\n",
        "# The transcript within each result is separate and sequential per result.\n",
        "# However, the words list within an alternative includes all the words\n",
        "# from all the results thus far. Thus, to get all the words with speaker\n",
        "# tags, you only have to take the words list from the last result:\n",
        "#result = response.results[-1]\n",
        "result=response.result().results[1].alternatives[0].words[0]\n",
        "for result in response.result().results:\n",
        "  # The first alternative is the most likely one for this portion.\n",
        "  print(u\"Transcript: {}\".format(result.alternatives[0].transcript))\n",
        "  print(u\"speaker_tag: {}\".format(result.alternatives[0].words[0].speaker_tag))\n",
        "  # print(\"Confidence: {}\".format(result.alternatives[0].confidence))\n",
        "'''for word_info in response.result().results:\n",
        "    print(\n",
        "        u\"word: '{}', speaker_tag: {}\".format(word_info[1].word, word_info.speaker_tag)\n",
        "    )'''\n",
        "#print(response.result().results[1])\n",
        "#print(result)\n",
        "#print(result.alternatives[0].transcript)\n",
        "#words_info = result.alternatives[0].words\n",
        "#result=response.result()\n",
        "# Printing out the output:\n",
        "'''for word_info in respons.results:\n",
        "    print(\n",
        "        u\"word: '{}', speaker_tag: {}\".format(word_info.word, word_info.speaker_tag)\n",
        "    )'''\n",
        "'''print(\n",
        "        u\"word: '{}', speaker_tag: {}\".format(result.word, result.speaker_tag)\n",
        "    )'''\n",
        "'''for result in result.results:\n",
        "  # The first alternative is the most likely one for this portion.\n",
        "  print(u\"Transcript: {}\".format(result.alternatives[0].transcript))\n",
        "  #print(u\"Transcript: {}\".format(result.alternatives[0].speaker_tag))\n",
        "  # print(\"Confidence: {}\".format(result.alternatives[0].speaker_tag))'''"
      ],
      "execution_count": 3,
      "outputs": [
        {
          "output_type": "error",
          "ename": "ImportError",
          "evalue": "ignored",
          "traceback": [
            "\u001b[0;31m---------------------------------------------------------------------------\u001b[0m",
            "\u001b[0;31mImportError\u001b[0m                               Traceback (most recent call last)",
            "\u001b[0;32m<ipython-input-3-f030053c61a8>\u001b[0m in \u001b[0;36m<module>\u001b[0;34m\u001b[0m\n\u001b[0;32m----> 1\u001b[0;31m \u001b[0;32mfrom\u001b[0m \u001b[0mgoogle\u001b[0m\u001b[0;34m.\u001b[0m\u001b[0mcloud\u001b[0m \u001b[0;32mimport\u001b[0m \u001b[0mspeech_v1p1beta1\u001b[0m \u001b[0;32mas\u001b[0m \u001b[0mspeech\u001b[0m\u001b[0;34m\u001b[0m\u001b[0;34m\u001b[0m\u001b[0m\n\u001b[0m\u001b[1;32m      2\u001b[0m \u001b[0;34m\u001b[0m\u001b[0m\n\u001b[1;32m      3\u001b[0m \u001b[0mclient\u001b[0m \u001b[0;34m=\u001b[0m \u001b[0mspeech\u001b[0m\u001b[0;34m.\u001b[0m\u001b[0mSpeechClient\u001b[0m\u001b[0;34m(\u001b[0m\u001b[0;34m)\u001b[0m\u001b[0;34m\u001b[0m\u001b[0;34m\u001b[0m\u001b[0m\n\u001b[1;32m      4\u001b[0m \u001b[0;34m\u001b[0m\u001b[0m\n\u001b[1;32m      5\u001b[0m \u001b[0mspeech_file\u001b[0m \u001b[0;34m=\u001b[0m \u001b[0;34m\"resources/commercial_mono.wav\"\u001b[0m\u001b[0;34m\u001b[0m\u001b[0;34m\u001b[0m\u001b[0m\n",
            "\u001b[0;31mImportError\u001b[0m: cannot import name 'speech_v1p1beta1' from 'google.cloud' (unknown location)",
            "",
            "\u001b[0;31m---------------------------------------------------------------------------\u001b[0;32m\nNOTE: If your import is failing due to a missing package, you can\nmanually install dependencies using either !pip or !apt.\n\nTo view examples of installing some common dependencies, click the\n\"Open Examples\" button below.\n\u001b[0;31m---------------------------------------------------------------------------\u001b[0m\n"
          ],
          "errorDetails": {
            "actions": [
              {
                "action": "open_url",
                "actionText": "Open Examples",
                "url": "/notebooks/snippets/importing_libraries.ipynb"
              }
            ]
          }
        }
      ]
    }
  ]
}